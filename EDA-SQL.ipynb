{
    "cells": [
        {
            "attachments": {},
            "cell_type": "markdown",
            "id": "62f5e5fc-c21f-4a5b-8e79-5ad7c2c32331",
            "metadata": {},
            "source": "<p style=\"text-align:center\">\n    <a href=\"https://skills.network/?utm_medium=Exinfluencer&utm_source=Exinfluencer&utm_content=000026UJ&utm_term=10006555&utm_id=NA-SkillsNetwork-Channel-SkillsNetworkCoursesIBMDS0321ENSkillsNetwork865-2022-01-01\" target=\"_blank\">\n    <img src=\"https://cf-courses-data.s3.us.cloud-object-storage.appdomain.cloud/assets/logos/SN_web_lightmode.png\" width=\"200\" alt=\"Skills Network Logo\"  />\n    </a>\n</p>\n\n<h1 align=center><font size = 5>Assignment: SQL Notebook for Peer Assignment</font></h1>\n\nEstimated time needed: **60** minutes.\n\n## Introduction\nUsing this Python notebook you will:\n\n1.  Understand the Spacex DataSet\n2.  Load the dataset  into the corresponding table in a Db2 database\n3.  Execute SQL queries to answer assignment questions \n"
        },
        {
            "attachments": {},
            "cell_type": "markdown",
            "id": "28b87e78-66b4-42a6-bc76-a8c3e9122b81",
            "metadata": {},
            "source": "## Overview of the DataSet\n\nSpaceX has gained worldwide attention for a series of historic milestones. \n\nIt is the only private company ever to return a spacecraft from low-earth orbit, which it first accomplished in December 2010.\nSpaceX advertises Falcon 9 rocket launches on its website with a cost of 62 million dollars wheras other providers cost upward of 165 million dollars each, much of the savings is because Space X can reuse the first stage. \n\n\nTherefore if we can determine if the first stage will land, we can determine the cost of a launch. \n\nThis information can be used if an alternate company wants to bid against SpaceX for a rocket launch.\n\nThis dataset includes a record for each payload carried during a SpaceX mission into outer space.\n"
        },
        {
            "attachments": {},
            "cell_type": "markdown",
            "id": "ffe8c135-38dc-4e01-9956-5f5bc504f285",
            "metadata": {},
            "source": "### Download the datasets\n\nThis assignment requires you to load the spacex dataset.\n\nIn many cases the dataset to be analyzed is available as a .CSV (comma separated values) file, perhaps on the internet. Click on the link below to download and save the dataset (.CSV file):\n\n <a href=\"https://cf-courses-data.s3.us.cloud-object-storage.appdomain.cloud/IBM-DS0321EN-SkillsNetwork/labs/module_2/data/Spacex.csv\" target=\"_blank\">Spacex DataSet</a>\n\n"
        },
        {
            "cell_type": "code",
            "execution_count": 1,
            "metadata": {},
            "outputs": [
                {
                    "name": "stdout",
                    "output_type": "stream",
                    "text": "Requirement already satisfied: sqlalchemy==1.3.9 in c:\\users\\navob\\appdata\\local\\programs\\python\\python310\\lib\\site-packages (1.3.9)\nRequirement already satisfied: ibm_db_sa in c:\\users\\navob\\appdata\\local\\programs\\python\\python310\\lib\\site-packages (0.3.3)\nRequirement already satisfied: sqlalchemy>=0.7.3 in c:\\users\\navob\\appdata\\local\\programs\\python\\python310\\lib\\site-packages (from ibm_db_sa) (1.3.9)\nRequirement already satisfied: ipython-sql in c:\\users\\navob\\appdata\\local\\programs\\python\\python310\\lib\\site-packages (0.4.1)\nRequirement already satisfied: prettytable<1 in c:\\users\\navob\\appdata\\local\\programs\\python\\python310\\lib\\site-packages (from ipython-sql) (0.7.2)\nRequirement already satisfied: ipython>=1.0 in c:\\users\\navob\\appdata\\local\\programs\\python\\python310\\lib\\site-packages (from ipython-sql) (8.11.0)\nRequirement already satisfied: sqlalchemy>=0.6.7 in c:\\users\\navob\\appdata\\local\\programs\\python\\python310\\lib\\site-packages (from ipython-sql) (1.3.9)\nRequirement already satisfied: sqlparse in c:\\users\\navob\\appdata\\local\\programs\\python\\python310\\lib\\site-packages (from ipython-sql) (0.4.3)\nRequirement already satisfied: six in c:\\users\\navob\\appdata\\roaming\\python\\python310\\site-packages (from ipython-sql) (1.16.0)\nRequirement already satisfied: ipython-genutils>=0.1.0 in c:\\users\\navob\\appdata\\local\\programs\\python\\python310\\lib\\site-packages (from ipython-sql) (0.2.0)\nRequirement already satisfied: backcall in c:\\users\\navob\\appdata\\roaming\\python\\python310\\site-packages (from ipython>=1.0->ipython-sql) (0.2.0)\nRequirement already satisfied: decorator in c:\\users\\navob\\appdata\\roaming\\python\\python310\\site-packages (from ipython>=1.0->ipython-sql) (5.1.1)\nRequirement already satisfied: jedi>=0.16 in c:\\users\\navob\\appdata\\roaming\\python\\python310\\site-packages (from ipython>=1.0->ipython-sql) (0.18.2)\nRequirement already satisfied: matplotlib-inline in c:\\users\\navob\\appdata\\roaming\\python\\python310\\site-packages (from ipython>=1.0->ipython-sql) (0.1.6)\nRequirement already satisfied: pickleshare in c:\\users\\navob\\appdata\\roaming\\python\\python310\\site-packages (from ipython>=1.0->ipython-sql) (0.7.5)\nRequirement already satisfied: prompt-toolkit!=3.0.37,<3.1.0,>=3.0.30 in c:\\users\\navob\\appdata\\roaming\\python\\python310\\site-packages (from ipython>=1.0->ipython-sql) (3.0.36)\nRequirement already satisfied: pygments>=2.4.0 in c:\\users\\navob\\appdata\\roaming\\python\\python310\\site-packages (from ipython>=1.0->ipython-sql) (2.14.0)\nRequirement already satisfied: stack-data in c:\\users\\navob\\appdata\\roaming\\python\\python310\\site-packages (from ipython>=1.0->ipython-sql) (0.6.2)\nRequirement already satisfied: traitlets>=5 in c:\\users\\navob\\appdata\\roaming\\python\\python310\\site-packages (from ipython>=1.0->ipython-sql) (5.9.0)\nRequirement already satisfied: colorama in c:\\users\\navob\\appdata\\roaming\\python\\python310\\site-packages (from ipython>=1.0->ipython-sql) (0.4.6)\nRequirement already satisfied: parso<0.9.0,>=0.8.0 in c:\\users\\navob\\appdata\\roaming\\python\\python310\\site-packages (from jedi>=0.16->ipython>=1.0->ipython-sql) (0.8.3)\nRequirement already satisfied: wcwidth in c:\\users\\navob\\appdata\\roaming\\python\\python310\\site-packages (from prompt-toolkit!=3.0.37,<3.1.0,>=3.0.30->ipython>=1.0->ipython-sql) (0.2.6)\nRequirement already satisfied: executing>=1.2.0 in c:\\users\\navob\\appdata\\roaming\\python\\python310\\site-packages (from stack-data->ipython>=1.0->ipython-sql) (1.2.0)\nRequirement already satisfied: asttokens>=2.1.0 in c:\\users\\navob\\appdata\\roaming\\python\\python310\\site-packages (from stack-data->ipython>=1.0->ipython-sql) (2.2.1)\nRequirement already satisfied: pure-eval in c:\\users\\navob\\appdata\\roaming\\python\\python310\\site-packages (from stack-data->ipython>=1.0->ipython-sql) (0.2.2)\n"
                }
            ],
            "source": "!pip install sqlalchemy==1.3.9\n!pip install ibm_db_sa\n!pip install ipython-sql"
        },
        {
            "attachments": {},
            "cell_type": "markdown",
            "id": "21bfcb4f-176e-40d8-a398-4de8fd56d2f3",
            "metadata": {},
            "source": "### Connect to the database\n\nLet us first load the SQL extension and establish a connection with the database\n"
        },
        {
            "cell_type": "code",
            "execution_count": 2,
            "id": "fcb6ec57-e566-49bc-921f-83c4fa2046d0",
            "metadata": {},
            "outputs": [],
            "source": "%load_ext sql"
        },
        {
            "cell_type": "code",
            "execution_count": 3,
            "metadata": {},
            "outputs": [],
            "source": "%sql sqlite:///my_data1.db"
        },
        {
            "cell_type": "code",
            "execution_count": 4,
            "id": "6e472564-b81a-4ab7-9f81-8a887f99e46f",
            "metadata": {},
            "outputs": [],
            "source": "import csv, sqlite3\n\ncon = sqlite3.connect(\"my_data1.db\")\ncur = con.cursor()"
        },
        {
            "cell_type": "code",
            "execution_count": 5,
            "id": "a39f4990-90f3-4b4b-bc2c-c2c7f031e355",
            "metadata": {},
            "outputs": [],
            "source": "# !pip install -q pandas==1.1.5"
        },
        {
            "cell_type": "code",
            "execution_count": 6,
            "id": "6c405952-7668-42cd-8f1d-359b527d0575",
            "metadata": {},
            "outputs": [],
            "source": "# %sql sqlite:///my_data1.db"
        },
        {
            "cell_type": "code",
            "execution_count": 7,
            "id": "2717bc34-beac-4bd7-a89e-c4a41e8157f8",
            "metadata": {},
            "outputs": [
                {
                    "name": "stderr",
                    "output_type": "stream",
                    "text": "c:\\Users\\navob\\AppData\\Local\\Programs\\Python\\Python310\\lib\\site-packages\\pandas\\core\\generic.py:2872: UserWarning: The spaces in these column names will not be changed. In pandas versions < 0.14, spaces were converted to underscores.\n  sql.to_sql(\n"
                }
            ],
            "source": "import pandas as pd\ndf = pd.read_csv(\"https://cf-courses-data.s3.us.cloud-object-storage.appdomain.cloud/IBM-DS0321EN-SkillsNetwork/labs/module_2/data/Spacex.csv\")\ndf.to_sql(\"SPACEXTBL\", con, if_exists='replace', index=False,method=\"multi\")"
        },
        {
            "cell_type": "code",
            "execution_count": 8,
            "metadata": {},
            "outputs": [
                {
                    "data": {
                        "text/html": "<div>\n<style scoped>\n    .dataframe tbody tr th:only-of-type {\n        vertical-align: middle;\n    }\n\n    .dataframe tbody tr th {\n        vertical-align: top;\n    }\n\n    .dataframe thead th {\n        text-align: right;\n    }\n</style>\n<table border=\"1\" class=\"dataframe\">\n  <thead>\n    <tr style=\"text-align: right;\">\n      <th></th>\n      <th>Date</th>\n      <th>Time (UTC)</th>\n      <th>Booster_Version</th>\n      <th>Launch_Site</th>\n      <th>Payload</th>\n      <th>PAYLOAD_MASS__KG_</th>\n      <th>Orbit</th>\n      <th>Customer</th>\n      <th>Mission_Outcome</th>\n      <th>Landing_Outcome</th>\n    </tr>\n  </thead>\n  <tbody>\n    <tr>\n      <th>0</th>\n      <td>06/04/2010</td>\n      <td>18:45:00</td>\n      <td>F9 v1.0  B0003</td>\n      <td>CCAFS LC-40</td>\n      <td>Dragon Spacecraft Qualification Unit</td>\n      <td>0.0</td>\n      <td>LEO</td>\n      <td>SpaceX</td>\n      <td>Success</td>\n      <td>Failure (parachute)</td>\n    </tr>\n    <tr>\n      <th>1</th>\n      <td>12/08/2010</td>\n      <td>15:43:00</td>\n      <td>F9 v1.0  B0004</td>\n      <td>CCAFS LC-40</td>\n      <td>Dragon demo flight C1, two CubeSats, barrel of...</td>\n      <td>0.0</td>\n      <td>LEO (ISS)</td>\n      <td>NASA (COTS) NRO</td>\n      <td>Success</td>\n      <td>Failure (parachute)</td>\n    </tr>\n    <tr>\n      <th>2</th>\n      <td>22/05/2012</td>\n      <td>7:44:00</td>\n      <td>F9 v1.0  B0005</td>\n      <td>CCAFS LC-40</td>\n      <td>Dragon demo flight C2</td>\n      <td>525.0</td>\n      <td>LEO (ISS)</td>\n      <td>NASA (COTS)</td>\n      <td>Success</td>\n      <td>No attempt</td>\n    </tr>\n    <tr>\n      <th>3</th>\n      <td>10/08/2012</td>\n      <td>0:35:00</td>\n      <td>F9 v1.0  B0006</td>\n      <td>CCAFS LC-40</td>\n      <td>SpaceX CRS-1</td>\n      <td>500.0</td>\n      <td>LEO (ISS)</td>\n      <td>NASA (CRS)</td>\n      <td>Success</td>\n      <td>No attempt</td>\n    </tr>\n    <tr>\n      <th>4</th>\n      <td>03/01/2013</td>\n      <td>15:10:00</td>\n      <td>F9 v1.0  B0007</td>\n      <td>CCAFS LC-40</td>\n      <td>SpaceX CRS-2</td>\n      <td>677.0</td>\n      <td>LEO (ISS)</td>\n      <td>NASA (CRS)</td>\n      <td>Success</td>\n      <td>No attempt</td>\n    </tr>\n    <tr>\n      <th>...</th>\n      <td>...</td>\n      <td>...</td>\n      <td>...</td>\n      <td>...</td>\n      <td>...</td>\n      <td>...</td>\n      <td>...</td>\n      <td>...</td>\n      <td>...</td>\n      <td>...</td>\n    </tr>\n    <tr>\n      <th>994</th>\n      <td>NaN</td>\n      <td>NaN</td>\n      <td>NaN</td>\n      <td>NaN</td>\n      <td>NaN</td>\n      <td>NaN</td>\n      <td>NaN</td>\n      <td>NaN</td>\n      <td>NaN</td>\n      <td>NaN</td>\n    </tr>\n    <tr>\n      <th>995</th>\n      <td>NaN</td>\n      <td>NaN</td>\n      <td>NaN</td>\n      <td>NaN</td>\n      <td>NaN</td>\n      <td>NaN</td>\n      <td>NaN</td>\n      <td>NaN</td>\n      <td>NaN</td>\n      <td>NaN</td>\n    </tr>\n    <tr>\n      <th>996</th>\n      <td>NaN</td>\n      <td>NaN</td>\n      <td>NaN</td>\n      <td>NaN</td>\n      <td>NaN</td>\n      <td>NaN</td>\n      <td>NaN</td>\n      <td>NaN</td>\n      <td>NaN</td>\n      <td>NaN</td>\n    </tr>\n    <tr>\n      <th>997</th>\n      <td>NaN</td>\n      <td>NaN</td>\n      <td>NaN</td>\n      <td>NaN</td>\n      <td>NaN</td>\n      <td>NaN</td>\n      <td>NaN</td>\n      <td>NaN</td>\n      <td>NaN</td>\n      <td>NaN</td>\n    </tr>\n    <tr>\n      <th>998</th>\n      <td>NaN</td>\n      <td>NaN</td>\n      <td>NaN</td>\n      <td>NaN</td>\n      <td>NaN</td>\n      <td>NaN</td>\n      <td>NaN</td>\n      <td>NaN</td>\n      <td>NaN</td>\n      <td>NaN</td>\n    </tr>\n  </tbody>\n</table>\n<p>999 rows \u00d7 10 columns</p>\n</div>",
                        "text/plain": "           Date Time (UTC) Booster_Version  Launch_Site  \\\n0    06/04/2010   18:45:00  F9 v1.0  B0003  CCAFS LC-40   \n1    12/08/2010   15:43:00  F9 v1.0  B0004  CCAFS LC-40   \n2    22/05/2012    7:44:00  F9 v1.0  B0005  CCAFS LC-40   \n3    10/08/2012    0:35:00  F9 v1.0  B0006  CCAFS LC-40   \n4    03/01/2013   15:10:00  F9 v1.0  B0007  CCAFS LC-40   \n..          ...        ...             ...          ...   \n994         NaN        NaN             NaN          NaN   \n995         NaN        NaN             NaN          NaN   \n996         NaN        NaN             NaN          NaN   \n997         NaN        NaN             NaN          NaN   \n998         NaN        NaN             NaN          NaN   \n\n                                               Payload  PAYLOAD_MASS__KG_  \\\n0                 Dragon Spacecraft Qualification Unit                0.0   \n1    Dragon demo flight C1, two CubeSats, barrel of...                0.0   \n2                                Dragon demo flight C2              525.0   \n3                                         SpaceX CRS-1              500.0   \n4                                         SpaceX CRS-2              677.0   \n..                                                 ...                ...   \n994                                                NaN                NaN   \n995                                                NaN                NaN   \n996                                                NaN                NaN   \n997                                                NaN                NaN   \n998                                                NaN                NaN   \n\n         Orbit         Customer Mission_Outcome      Landing_Outcome  \n0          LEO           SpaceX         Success  Failure (parachute)  \n1    LEO (ISS)  NASA (COTS) NRO         Success  Failure (parachute)  \n2    LEO (ISS)      NASA (COTS)         Success           No attempt  \n3    LEO (ISS)       NASA (CRS)         Success           No attempt  \n4    LEO (ISS)       NASA (CRS)         Success           No attempt  \n..         ...              ...             ...                  ...  \n994        NaN              NaN             NaN                  NaN  \n995        NaN              NaN             NaN                  NaN  \n996        NaN              NaN             NaN                  NaN  \n997        NaN              NaN             NaN                  NaN  \n998        NaN              NaN             NaN                  NaN  \n\n[999 rows x 10 columns]"
                    },
                    "execution_count": 8,
                    "metadata": {},
                    "output_type": "execute_result"
                }
            ],
            "source": "df"
        },
        {
            "attachments": {},
            "cell_type": "markdown",
            "id": "aeb3df77-52db-4f77-90a0-bbf6760b1125",
            "metadata": {},
            "source": "## Tasks\n\nNow write and execute SQL queries to solve the assignment tasks.\n\n**Note: If the column names are in mixed case enclose it in double quotes\n   For Example \"Landing_Outcome\"**\n\n### Task 1\n\n\n\n\n##### Display the names of the unique launch sites  in the space mission\n"
        },
        {
            "cell_type": "code",
            "execution_count": 9,
            "id": "064f242f-3e91-4990-9f3c-131f1f60cec3",
            "metadata": {},
            "outputs": [
                {
                    "name": "stdout",
                    "output_type": "stream",
                    "text": " * sqlite:///my_data1.db\nDone.\n"
                },
                {
                    "data": {
                        "text/html": "<table>\n    <tr>\n        <th>Launch_Site</th>\n    </tr>\n    <tr>\n        <td>CCAFS LC-40</td>\n    </tr>\n    <tr>\n        <td>VAFB SLC-4E</td>\n    </tr>\n    <tr>\n        <td>KSC LC-39A</td>\n    </tr>\n    <tr>\n        <td>CCAFS SLC-40</td>\n    </tr>\n    <tr>\n        <td>None</td>\n    </tr>\n</table>",
                        "text/plain": "[('CCAFS LC-40',),\n ('VAFB SLC-4E',),\n ('KSC LC-39A',),\n ('CCAFS SLC-40',),\n (None,)]"
                    },
                    "execution_count": 9,
                    "metadata": {},
                    "output_type": "execute_result"
                }
            ],
            "source": "%sql select distinct launch_site from spacextbl;"
        },
        {
            "attachments": {},
            "cell_type": "markdown",
            "id": "6ad3ca6d-02c4-47cc-bcb6-b2f375e29f14",
            "metadata": {},
            "source": "\n### Task 2\n\n\n#####  Display 5 records where launch sites begin with the string 'CCA' \n"
        },
        {
            "cell_type": "code",
            "execution_count": 10,
            "id": "c8b96954-f622-40f1-afa5-d242dd0151b4",
            "metadata": {},
            "outputs": [
                {
                    "name": "stdout",
                    "output_type": "stream",
                    "text": " * sqlite:///my_data1.db\nDone.\n"
                },
                {
                    "data": {
                        "text/html": "<table>\n    <tr>\n        <th>Date</th>\n        <th>Time (UTC)</th>\n        <th>Booster_Version</th>\n        <th>Launch_Site</th>\n        <th>Payload</th>\n        <th>PAYLOAD_MASS__KG_</th>\n        <th>Orbit</th>\n        <th>Customer</th>\n        <th>Mission_Outcome</th>\n        <th>Landing_Outcome</th>\n    </tr>\n    <tr>\n        <td>06/04/2010</td>\n        <td>18:45:00</td>\n        <td>F9 v1.0  B0003</td>\n        <td>CCAFS LC-40</td>\n        <td>Dragon Spacecraft Qualification Unit</td>\n        <td>0.0</td>\n        <td>LEO</td>\n        <td>SpaceX</td>\n        <td>Success</td>\n        <td>Failure (parachute)</td>\n    </tr>\n    <tr>\n        <td>12/08/2010</td>\n        <td>15:43:00</td>\n        <td>F9 v1.0  B0004</td>\n        <td>CCAFS LC-40</td>\n        <td>Dragon demo flight C1, two CubeSats, barrel of Brouere cheese</td>\n        <td>0.0</td>\n        <td>LEO (ISS)</td>\n        <td>NASA (COTS) NRO</td>\n        <td>Success</td>\n        <td>Failure (parachute)</td>\n    </tr>\n    <tr>\n        <td>22/05/2012</td>\n        <td>7:44:00</td>\n        <td>F9 v1.0  B0005</td>\n        <td>CCAFS LC-40</td>\n        <td>Dragon demo flight C2</td>\n        <td>525.0</td>\n        <td>LEO (ISS)</td>\n        <td>NASA (COTS)</td>\n        <td>Success</td>\n        <td>No attempt</td>\n    </tr>\n    <tr>\n        <td>10/08/2012</td>\n        <td>0:35:00</td>\n        <td>F9 v1.0  B0006</td>\n        <td>CCAFS LC-40</td>\n        <td>SpaceX CRS-1</td>\n        <td>500.0</td>\n        <td>LEO (ISS)</td>\n        <td>NASA (CRS)</td>\n        <td>Success</td>\n        <td>No attempt</td>\n    </tr>\n    <tr>\n        <td>03/01/2013</td>\n        <td>15:10:00</td>\n        <td>F9 v1.0  B0007</td>\n        <td>CCAFS LC-40</td>\n        <td>SpaceX CRS-2</td>\n        <td>677.0</td>\n        <td>LEO (ISS)</td>\n        <td>NASA (CRS)</td>\n        <td>Success</td>\n        <td>No attempt</td>\n    </tr>\n</table>",
                        "text/plain": "[('06/04/2010', '18:45:00', 'F9 v1.0  B0003', 'CCAFS LC-40', 'Dragon Spacecraft Qualification Unit', 0.0, 'LEO', 'SpaceX', 'Success', 'Failure (parachute)'),\n ('12/08/2010', '15:43:00', 'F9 v1.0  B0004', 'CCAFS LC-40', 'Dragon demo flight C1, two CubeSats, barrel of Brouere cheese', 0.0, 'LEO (ISS)', 'NASA (COTS) NRO', 'Success', 'Failure (parachute)'),\n ('22/05/2012', '7:44:00', 'F9 v1.0  B0005', 'CCAFS LC-40', 'Dragon demo flight C2', 525.0, 'LEO (ISS)', 'NASA (COTS)', 'Success', 'No attempt'),\n ('10/08/2012', '0:35:00', 'F9 v1.0  B0006', 'CCAFS LC-40', 'SpaceX CRS-1', 500.0, 'LEO (ISS)', 'NASA (CRS)', 'Success', 'No attempt'),\n ('03/01/2013', '15:10:00', 'F9 v1.0  B0007', 'CCAFS LC-40', 'SpaceX CRS-2', 677.0, 'LEO (ISS)', 'NASA (CRS)', 'Success', 'No attempt')]"
                    },
                    "execution_count": 10,
                    "metadata": {},
                    "output_type": "execute_result"
                }
            ],
            "source": "%sql select * from spacextbl where launch_site like 'cca%' limit 5"
        },
        {
            "attachments": {},
            "cell_type": "markdown",
            "metadata": {},
            "source": ""
        },
        {
            "attachments": {},
            "cell_type": "markdown",
            "id": "a1245fe9-e9c7-4d3f-8e39-5f0763511ab0",
            "metadata": {},
            "source": "### Task 3\n\n\n\n\n##### Display the total payload mass carried by boosters launched by NASA (CRS)\n"
        },
        {
            "cell_type": "code",
            "execution_count": 11,
            "id": "bca5e349-bd05-4ace-b1c8-9eeea1b46a32",
            "metadata": {},
            "outputs": [
                {
                    "name": "stdout",
                    "output_type": "stream",
                    "text": " * sqlite:///my_data1.db\nDone.\n"
                },
                {
                    "data": {
                        "text/html": "<table>\n    <tr>\n        <th>SUM</th>\n    </tr>\n    <tr>\n        <td>45596.0</td>\n    </tr>\n</table>",
                        "text/plain": "[(45596.0,)]"
                    },
                    "execution_count": 11,
                    "metadata": {},
                    "output_type": "execute_result"
                }
            ],
            "source": "# cur.execute('select sum(\"PAYLOAD_MASS__KG_\") from SPACEXTBL where Customer = \\'NASA (CRS)\\'')\n# cur.fetchall()\n%sql select sum(PAYLOAD_MASS__KG_) as SUM from spacextbl where customer like 'NASA (CRS)'"
        },
        {
            "attachments": {},
            "cell_type": "markdown",
            "id": "68009afe-0c04-408b-a3ea-fccb5a4c2a85",
            "metadata": {},
            "source": "### Task 4\n\n\n\n\n##### Display average payload mass carried by booster version F9 v1.1\n"
        },
        {
            "cell_type": "code",
            "execution_count": 12,
            "id": "c9ab7fe6-b18c-4a77-86b2-61c398c58c43",
            "metadata": {},
            "outputs": [
                {
                    "name": "stdout",
                    "output_type": "stream",
                    "text": " * sqlite:///my_data1.db\nDone.\n"
                },
                {
                    "data": {
                        "text/html": "<table>\n    <tr>\n        <th>AVG</th>\n    </tr>\n    <tr>\n        <td>2928.4</td>\n    </tr>\n</table>",
                        "text/plain": "[(2928.4,)]"
                    },
                    "execution_count": 12,
                    "metadata": {},
                    "output_type": "execute_result"
                }
            ],
            "source": "%sql select avg(payload_mass__kg_) as AVG from spacextbl where booster_version = 'F9 v1.1'"
        },
        {
            "attachments": {},
            "cell_type": "markdown",
            "id": "daf51f8c-68ab-4bec-9e00-f0816f7afe69",
            "metadata": {},
            "source": "### Task 5\n\n##### List the date when the first succesful landing outcome in ground pad was acheived.\n\n\n_Hint:Use min function_ \n"
        },
        {
            "cell_type": "code",
            "execution_count": 13,
            "metadata": {},
            "outputs": [
                {
                    "data": {
                        "text/plain": "array(['Failure (parachute)', 'No attempt', 'Uncontrolled (ocean)',\n       'Controlled (ocean)', 'Failure (drone ship)',\n       'Precluded (drone ship)', 'Success (ground pad)',\n       'Success (drone ship)', 'Success', 'Failure', 'No attempt ', nan],\n      dtype=object)"
                    },
                    "execution_count": 13,
                    "metadata": {},
                    "output_type": "execute_result"
                }
            ],
            "source": "df.Landing_Outcome.unique()"
        },
        {
            "cell_type": "code",
            "execution_count": 14,
            "id": "ccb7b534-8ad1-47d4-ad4f-fa0d44cb7d7f",
            "metadata": {},
            "outputs": [
                {
                    "name": "stdout",
                    "output_type": "stream",
                    "text": " * sqlite:///my_data1.db\nDone.\n"
                },
                {
                    "data": {
                        "text/html": "<table>\n    <tr>\n        <th>MIN(DATE)</th>\n    </tr>\n    <tr>\n        <td>01/08/2018</td>\n    </tr>\n</table>",
                        "text/plain": "[('01/08/2018',)]"
                    },
                    "execution_count": 14,
                    "metadata": {},
                    "output_type": "execute_result"
                }
            ],
            "source": "%sql SELECT MIN(DATE) FROM SPACEXTBL WHERE LANDING_OUTCOME = 'Success (ground pad)'"
        },
        {
            "attachments": {},
            "cell_type": "markdown",
            "id": "f3b0a30d-0c0e-4438-8ec8-94ff0bfa6241",
            "metadata": {},
            "source": "### Task 6\n\n##### List the names of the boosters which have success in drone ship and have payload mass greater than 4000 but less than 6000\n"
        },
        {
            "cell_type": "code",
            "execution_count": 15,
            "metadata": {},
            "outputs": [
                {
                    "data": {
                        "text/html": "<div>\n<style scoped>\n    .dataframe tbody tr th:only-of-type {\n        vertical-align: middle;\n    }\n\n    .dataframe tbody tr th {\n        vertical-align: top;\n    }\n\n    .dataframe thead th {\n        text-align: right;\n    }\n</style>\n<table border=\"1\" class=\"dataframe\">\n  <thead>\n    <tr style=\"text-align: right;\">\n      <th></th>\n      <th>Date</th>\n      <th>Time (UTC)</th>\n      <th>Booster_Version</th>\n      <th>Launch_Site</th>\n      <th>Payload</th>\n      <th>PAYLOAD_MASS__KG_</th>\n      <th>Orbit</th>\n      <th>Customer</th>\n      <th>Mission_Outcome</th>\n      <th>Landing_Outcome</th>\n    </tr>\n  </thead>\n  <tbody>\n    <tr>\n      <th>0</th>\n      <td>06/04/2010</td>\n      <td>18:45:00</td>\n      <td>F9 v1.0  B0003</td>\n      <td>CCAFS LC-40</td>\n      <td>Dragon Spacecraft Qualification Unit</td>\n      <td>0.0</td>\n      <td>LEO</td>\n      <td>SpaceX</td>\n      <td>Success</td>\n      <td>Failure (parachute)</td>\n    </tr>\n    <tr>\n      <th>1</th>\n      <td>12/08/2010</td>\n      <td>15:43:00</td>\n      <td>F9 v1.0  B0004</td>\n      <td>CCAFS LC-40</td>\n      <td>Dragon demo flight C1, two CubeSats, barrel of...</td>\n      <td>0.0</td>\n      <td>LEO (ISS)</td>\n      <td>NASA (COTS) NRO</td>\n      <td>Success</td>\n      <td>Failure (parachute)</td>\n    </tr>\n    <tr>\n      <th>2</th>\n      <td>22/05/2012</td>\n      <td>7:44:00</td>\n      <td>F9 v1.0  B0005</td>\n      <td>CCAFS LC-40</td>\n      <td>Dragon demo flight C2</td>\n      <td>525.0</td>\n      <td>LEO (ISS)</td>\n      <td>NASA (COTS)</td>\n      <td>Success</td>\n      <td>No attempt</td>\n    </tr>\n  </tbody>\n</table>\n</div>",
                        "text/plain": "         Date Time (UTC) Booster_Version  Launch_Site  \\\n0  06/04/2010   18:45:00  F9 v1.0  B0003  CCAFS LC-40   \n1  12/08/2010   15:43:00  F9 v1.0  B0004  CCAFS LC-40   \n2  22/05/2012    7:44:00  F9 v1.0  B0005  CCAFS LC-40   \n\n                                             Payload  PAYLOAD_MASS__KG_  \\\n0               Dragon Spacecraft Qualification Unit                0.0   \n1  Dragon demo flight C1, two CubeSats, barrel of...                0.0   \n2                              Dragon demo flight C2              525.0   \n\n       Orbit         Customer Mission_Outcome      Landing_Outcome  \n0        LEO           SpaceX         Success  Failure (parachute)  \n1  LEO (ISS)  NASA (COTS) NRO         Success  Failure (parachute)  \n2  LEO (ISS)      NASA (COTS)         Success           No attempt  "
                    },
                    "execution_count": 15,
                    "metadata": {},
                    "output_type": "execute_result"
                }
            ],
            "source": "df.head(3)"
        },
        {
            "cell_type": "code",
            "execution_count": 16,
            "id": "a8a46f10-b7c2-4c2c-836a-21e9289107c5",
            "metadata": {},
            "outputs": [
                {
                    "name": "stdout",
                    "output_type": "stream",
                    "text": " * sqlite:///my_data1.db\nDone.\n"
                },
                {
                    "data": {
                        "text/html": "<table>\n    <tr>\n        <th>name</th>\n    </tr>\n    <tr>\n        <td>F9 FT B1020</td>\n    </tr>\n    <tr>\n        <td>F9 FT B1022</td>\n    </tr>\n    <tr>\n        <td>F9 FT B1026</td>\n    </tr>\n    <tr>\n        <td>F9 FT  B1021.2</td>\n    </tr>\n    <tr>\n        <td>F9 FT  B1031.2</td>\n    </tr>\n</table>",
                        "text/plain": "[('F9 FT B1020',),\n ('F9 FT B1022',),\n ('F9 FT B1026',),\n ('F9 FT  B1021.2',),\n ('F9 FT  B1031.2',)]"
                    },
                    "execution_count": 16,
                    "metadata": {},
                    "output_type": "execute_result"
                }
            ],
            "source": "%sql select booster_version as name from spacextbl where landing_outcome like '%drone%' and payload_mass__kg_ > 4000 and payload_mass__kg_ < 6000"
        },
        {
            "attachments": {},
            "cell_type": "markdown",
            "id": "3b2e99ee-3df2-4059-93fd-0397c93e87a1",
            "metadata": {},
            "source": "### Task 7\n\n\n\n\n##### List the total number of successful and failure mission outcomes\n"
        },
        {
            "cell_type": "code",
            "execution_count": 17,
            "id": "33a28c37-4c70-4a2f-a863-c711e5685b29",
            "metadata": {},
            "outputs": [
                {
                    "name": "stdout",
                    "output_type": "stream",
                    "text": " * sqlite:///my_data1.db\nDone.\n"
                },
                {
                    "data": {
                        "text/html": "<table>\n    <tr>\n        <th>successful_launches</th>\n    </tr>\n    <tr>\n        <td>100</td>\n    </tr>\n</table>",
                        "text/plain": "[(100,)]"
                    },
                    "execution_count": 17,
                    "metadata": {},
                    "output_type": "execute_result"
                }
            ],
            "source": "%sql select count(*) as successful_launches from spacextbl where mission_outcome like '%Success%';"
        },
        {
            "cell_type": "code",
            "execution_count": 18,
            "metadata": {},
            "outputs": [
                {
                    "name": "stdout",
                    "output_type": "stream",
                    "text": " * sqlite:///my_data1.db\nDone.\n"
                },
                {
                    "data": {
                        "text/html": "<table>\n    <tr>\n        <th>failed_launches</th>\n    </tr>\n    <tr>\n        <td>1</td>\n    </tr>\n</table>",
                        "text/plain": "[(1,)]"
                    },
                    "execution_count": 18,
                    "metadata": {},
                    "output_type": "execute_result"
                }
            ],
            "source": "%sql select count(*) as failed_launches from spacextbl where mission_outcome like '%Failure%'"
        },
        {
            "attachments": {},
            "cell_type": "markdown",
            "id": "660e7f9f-6936-4b84-b419-ca94c04f99e2",
            "metadata": {},
            "source": "### Task 8\n\n\n\n##### List the   names of the booster_versions which have carried the maximum payload mass. Use a subquery\n"
        },
        {
            "cell_type": "code",
            "execution_count": 60,
            "metadata": {},
            "outputs": [
                {
                    "name": "stdout",
                    "output_type": "stream",
                    "text": " * sqlite:///my_data1.db\nDone.\n"
                },
                {
                    "data": {
                        "text/html": "<table>\n    <tr>\n        <th>Booster_Version</th>\n    </tr>\n    <tr>\n        <td>F9 B5 B1048.4</td>\n    </tr>\n    <tr>\n        <td>F9 B5 B1049.4</td>\n    </tr>\n    <tr>\n        <td>F9 B5 B1051.3</td>\n    </tr>\n    <tr>\n        <td>F9 B5 B1056.4</td>\n    </tr>\n    <tr>\n        <td>F9 B5 B1048.5</td>\n    </tr>\n    <tr>\n        <td>F9 B5 B1051.4</td>\n    </tr>\n    <tr>\n        <td>F9 B5 B1049.5</td>\n    </tr>\n    <tr>\n        <td>F9 B5 B1060.2 </td>\n    </tr>\n    <tr>\n        <td>F9 B5 B1058.3 </td>\n    </tr>\n    <tr>\n        <td>F9 B5 B1051.6</td>\n    </tr>\n    <tr>\n        <td>F9 B5 B1060.3</td>\n    </tr>\n    <tr>\n        <td>F9 B5 B1049.7 </td>\n    </tr>\n</table>",
                        "text/plain": "[('F9 B5 B1048.4',),\n ('F9 B5 B1049.4',),\n ('F9 B5 B1051.3',),\n ('F9 B5 B1056.4',),\n ('F9 B5 B1048.5',),\n ('F9 B5 B1051.4',),\n ('F9 B5 B1049.5',),\n ('F9 B5 B1060.2 ',),\n ('F9 B5 B1058.3 ',),\n ('F9 B5 B1051.6',),\n ('F9 B5 B1060.3',),\n ('F9 B5 B1049.7 ',)]"
                    },
                    "execution_count": 60,
                    "metadata": {},
                    "output_type": "execute_result"
                }
            ],
            "source": "%sql SELECT Booster_Version FROM SPACEXTBL WHERE \"PAYLOAD_MASS__KG_\" = (SELECT MAX(\"PAYLOAD_MASS__KG_\") FROM SPACEXTBL);"
        },
        {
            "cell_type": "code",
            "execution_count": null,
            "metadata": {},
            "outputs": [],
            "source": "df.head(3)"
        },
        {
            "attachments": {},
            "cell_type": "markdown",
            "id": "008f7c68-5946-43c4-9945-1a45e603eb35",
            "metadata": {},
            "source": "### Task 9\n\n\n##### List the records which will display the month names, failure landing_outcomes in drone ship ,booster versions, launch_site for the months in year 2015.\n\n**Note: SQLLite does not support monthnames. So you need to use  substr(Date, 4, 2) as month to get the months and substr(Date,7,4)='2015' for year.**\n"
        },
        {
            "cell_type": "code",
            "execution_count": 19,
            "id": "66c15b1b-da4b-4951-8d7c-ac8df75836fc",
            "metadata": {},
            "outputs": [
                {
                    "name": "stdout",
                    "output_type": "stream",
                    "text": " * sqlite:///my_data1.db\nDone.\n"
                },
                {
                    "data": {
                        "text/html": "<table>\n    <tr>\n        <th>substr(Date, 4, 2)</th>\n        <th>Booster_Version</th>\n        <th>Launch_Site</th>\n        <th>Landing_Outcome</th>\n    </tr>\n    <tr>\n        <td>10</td>\n        <td>F9 v1.1 B1012</td>\n        <td>CCAFS LC-40</td>\n        <td>Failure (drone ship)</td>\n    </tr>\n    <tr>\n        <td>04</td>\n        <td>F9 v1.1 B1015</td>\n        <td>CCAFS LC-40</td>\n        <td>Failure (drone ship)</td>\n    </tr>\n</table>",
                        "text/plain": "[('10', 'F9 v1.1 B1012', 'CCAFS LC-40', 'Failure (drone ship)'),\n ('04', 'F9 v1.1 B1015', 'CCAFS LC-40', 'Failure (drone ship)')]"
                    },
                    "execution_count": 19,
                    "metadata": {},
                    "output_type": "execute_result"
                }
            ],
            "source": "%sql select substr(Date, 4, 2), booster_version, launch_site, landing_outcome from spacextbl where substr(Date,7,4)='2015' and landing_outcome like '%Failure%drone%'"
        },
        {
            "attachments": {},
            "cell_type": "markdown",
            "id": "930a3560-cc1c-4587-866a-7bde5982c648",
            "metadata": {},
            "source": "### Task 10\n\n\n\n\n##### Rank the  count of  successful landing_outcomes between the date 04-06-2010 and 20-03-2017 in descending order.\n"
        },
        {
            "cell_type": "code",
            "execution_count": 20,
            "metadata": {},
            "outputs": [
                {
                    "name": "stdout",
                    "output_type": "stream",
                    "text": " * sqlite:///my_data1.db\nDone.\n"
                },
                {
                    "data": {
                        "text/html": "<table>\n    <tr>\n        <th>Landing_Outcome</th>\n        <th>COUNT</th>\n    </tr>\n    <tr>\n        <td>Success</td>\n        <td>38</td>\n    </tr>\n    <tr>\n        <td>No attempt</td>\n        <td>21</td>\n    </tr>\n    <tr>\n        <td>Success (drone ship)</td>\n        <td>14</td>\n    </tr>\n    <tr>\n        <td>Success (ground pad)</td>\n        <td>9</td>\n    </tr>\n    <tr>\n        <td>Failure (drone ship)</td>\n        <td>5</td>\n    </tr>\n    <tr>\n        <td>Controlled (ocean)</td>\n        <td>5</td>\n    </tr>\n    <tr>\n        <td>Failure</td>\n        <td>3</td>\n    </tr>\n    <tr>\n        <td>Uncontrolled (ocean)</td>\n        <td>2</td>\n    </tr>\n    <tr>\n        <td>Failure (parachute)</td>\n        <td>2</td>\n    </tr>\n    <tr>\n        <td>Precluded (drone ship)</td>\n        <td>1</td>\n    </tr>\n    <tr>\n        <td>No attempt </td>\n        <td>1</td>\n    </tr>\n    <tr>\n        <td>None</td>\n        <td>0</td>\n    </tr>\n</table>",
                        "text/plain": "[('Success', 38),\n ('No attempt', 21),\n ('Success (drone ship)', 14),\n ('Success (ground pad)', 9),\n ('Failure (drone ship)', 5),\n ('Controlled (ocean)', 5),\n ('Failure', 3),\n ('Uncontrolled (ocean)', 2),\n ('Failure (parachute)', 2),\n ('Precluded (drone ship)', 1),\n ('No attempt ', 1),\n (None, 0)]"
                    },
                    "execution_count": 20,
                    "metadata": {},
                    "output_type": "execute_result"
                }
            ],
            "source": "%%sql select landing_outcome, count(landing_outcome) as COUNT from spacextbl \n    group by landing_outcome order by count(landing_outcome) desc"
        },
        {
            "attachments": {},
            "cell_type": "markdown",
            "id": "48ad1afc-59f0-47a6-ae2e-7b6ff90999dc",
            "metadata": {},
            "source": "### Reference Links\n\n* <a href =\"https://cf-courses-data.s3.us.cloud-object-storage.appdomain.cloud/IBMDeveloperSkillsNetwork-DB0201EN-SkillsNetwork/labs/Labs_Coursera_V5/labs/Lab%20-%20String%20Patterns%20-%20Sorting%20-%20Grouping/instructional-labs.md.html?origin=www.coursera.org\">Hands-on Lab : String Patterns, Sorting and Grouping</a>  \n\n*  <a  href=\"https://cf-courses-data.s3.us.cloud-object-storage.appdomain.cloud/IBMDeveloperSkillsNetwork-DB0201EN-SkillsNetwork/labs/Labs_Coursera_V5/labs/Lab%20-%20Built-in%20functions%20/Hands-on_Lab__Built-in_Functions.md.html?origin=www.coursera.org\">Hands-on Lab: Built-in functions</a>\n\n*  <a  href=\"https://cf-courses-data.s3.us.cloud-object-storage.appdomain.cloud/IBMDeveloperSkillsNetwork-DB0201EN-SkillsNetwork/labs/Labs_Coursera_V5/labs/Lab%20-%20Sub-queries%20and%20Nested%20SELECTs%20/instructional-labs.md.html?origin=www.coursera.org\">Hands-on Lab : Sub-queries and Nested SELECT Statements</a>\n\n*   <a href=\"https://cf-courses-data.s3.us.cloud-object-storage.appdomain.cloud/IBMDeveloperSkillsNetwork-DB0201EN-SkillsNetwork/labs/Module%205/DB0201EN-Week3-1-3-SQLmagic.ipynb\">Hands-on Tutorial: Accessing Databases with SQL magic</a>\n\n*  <a href= \"https://cf-courses-data.s3.us.cloud-object-storage.appdomain.cloud/IBMDeveloperSkillsNetwork-DB0201EN-SkillsNetwork/labs/Module%205/DB0201EN-Week3-1-4-Analyzing.ipynb\">Hands-on Lab: Analyzing a real World Data Set</a>\n\n\n"
        },
        {
            "attachments": {},
            "cell_type": "markdown",
            "id": "ec1c809f-d209-41d5-8b22-76f7cd59bb53",
            "metadata": {},
            "source": "## Author(s)\n\n<h4> Lakshmi Holla </h4>\n"
        },
        {
            "attachments": {},
            "cell_type": "markdown",
            "id": "bce3d843-e6cc-49de-a788-a31a3de09872",
            "metadata": {},
            "source": "## Other Contributors\n\n<h4> Rav Ahuja </h4>\n"
        },
        {
            "attachments": {},
            "cell_type": "markdown",
            "id": "2a98a3d8-e49d-496a-bc70-e7f473580c66",
            "metadata": {},
            "source": "## Change log\n| Date | Version | Changed by | Change Description |\n|------|--------|--------|---------|\n| 2021-07-09 | 0.2 |Lakshmi Holla | Changes made in magic sql|\n| 2021-05-20 | 0.1 |Lakshmi Holla | Created Initial Version |\n"
        },
        {
            "attachments": {},
            "cell_type": "markdown",
            "id": "76a7ca44-fa0a-45b7-a6bd-a8a4f0df1eec",
            "metadata": {},
            "source": "## <h3 align=\"center\"> \u00a9 IBM Corporation 2021. All rights reserved. <h3/>\n"
        }
    ],
    "metadata": {
        "kernelspec": {
            "display_name": "Python 3",
            "language": "python",
            "name": "python3"
        },
        "language_info": {
            "codemirror_mode": {
                "name": "ipython",
                "version": 3
            },
            "file_extension": ".py",
            "mimetype": "text/x-python",
            "name": "python",
            "nbconvert_exporter": "python",
            "pygments_lexer": "ipython3",
            "version": "3.10.0"
        }
    },
    "nbformat": 4,
    "nbformat_minor": 4
}